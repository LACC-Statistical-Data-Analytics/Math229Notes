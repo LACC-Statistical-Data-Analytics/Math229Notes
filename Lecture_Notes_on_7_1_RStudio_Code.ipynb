{
  "nbformat": 4,
  "nbformat_minor": 0,
  "metadata": {
    "colab": {
      "provenance": []
    },
    "kernelspec": {
      "name": "ir",
      "display_name": "R"
    },
    "language_info": {
      "name": "R"
    }
  },
  "cells": [
    {
      "cell_type": "markdown",
      "source": [
        "![LACC.png](data:image/png;base64,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)"
      ],
      "metadata": {
        "id": "69_KTEOpxjhQ"
      }
    },
    {
      "cell_type": "markdown",
      "source": [
        "#Module 7: RStudio Code\n",
        "#Created by Professor: Edward Pineda-Castro\n",
        "#Los Angeles City College"
      ],
      "metadata": {
        "id": "0DjFtuKhBHKf"
      }
    },
    {
      "cell_type": "markdown",
      "source": [
        "\n",
        "<h1><center>7.1 Estimating a Population Proportion</center></h1>"
      ],
      "metadata": {
        "id": "ANoOcOfuoNvG"
      }
    },
    {
      "cell_type": "markdown",
      "source": [
        "**Example 1:**  The drug Lipitor is meant to lower cholesterol levels.  In a clinical trial of 863 patients who received 10-mg doses of Lipitor daily, 47 reported a headache as a side effect.  Obtain a point estimate for the population proportion of Lipitor users who will experience a headache as a side effect."
      ],
      "metadata": {
        "id": "jz555sOQoqJu"
      }
    },
    {
      "cell_type": "code",
      "source": [
        "# Define the number of patients with a headache\n",
        "headache_cases <- 47\n",
        "\n",
        "# Define the total number of patients in the clinical trial\n",
        "total_patients <- 863\n",
        "\n",
        "# Calculate the sample proportion\n",
        "sample_proportion <- headache_cases / total_patients\n",
        "\n",
        "# Print the point estimate\n",
        "cat(\"Point Estimate (Sample Proportion):\", sample_proportion, \"\\n\")\n"
      ],
      "metadata": {
        "id": "niUGva0Xo5ZV",
        "outputId": "f57c7ada-6765-4d0c-b016-2f9a1474aa48",
        "colab": {
          "base_uri": "https://localhost:8080/"
        }
      },
      "execution_count": 1,
      "outputs": [
        {
          "output_type": "stream",
          "name": "stdout",
          "text": [
            "Point Estimate (Sample Proportion): 0.05446118 \n"
          ]
        }
      ]
    },
    {
      "cell_type": "markdown",
      "source": [
        "**Example 2:**  A Gallup poll conducted in November 2010 found that 493 of 1050 adult Americans believe it is the responsibility of the federal government to make sure all Americans have healthcare coverage.  Construct and interpret a 95% confidence interval for the proportion of adult Americans who believe it is the responsibility of the federal government to make sure all Americans have healthcare coverage."
      ],
      "metadata": {
        "id": "c4_90zWDo8aB"
      }
    },
    {
      "cell_type": "code",
      "source": [
        "# Enter your values here:\n",
        "x = 493\n",
        "n = 1050\n",
        "confidence_level = 0.95\n",
        "#************************************\n",
        "\n",
        "# Calculate the point estimator\n",
        "sample_proportion = x/n\n",
        "\n",
        "# Pass the sample size\n",
        "sample_size = n\n",
        "\n",
        "# Calculate the standard error\n",
        "standard_error <- sqrt((sample_proportion * (1 - sample_proportion)) / sample_size)\n",
        "\n",
        "# Calculate the margin of error\n",
        "z_score <- qnorm((1 + confidence_level) / 2)\n",
        "margin_of_error <- z_score * standard_error\n",
        "\n",
        "# Calculate the lower and upper bounds of the confidence interval\n",
        "lower_bound <- sample_proportion - margin_of_error\n",
        "upper_bound <- sample_proportion + margin_of_error\n",
        "\n",
        "# Print the point estimate\n",
        "cat(\"Phat:\", sample_proportion,'\\n')\n",
        "# Print the Critical Value\n",
        "cat(\"Critical Value:\",z_score,'\\n')\n",
        "#Print the confidence interval\n",
        "cat(confidence_level*100,\"%\",\"Confidence Interval: (\", lower_bound, \", \", upper_bound, \")\\n\")\n"
      ],
      "metadata": {
        "id": "Y03-rcIKpC2j",
        "colab": {
          "base_uri": "https://localhost:8080/"
        },
        "outputId": "5a635a7e-60a2-419c-9385-8520d176870e"
      },
      "execution_count": 2,
      "outputs": [
        {
          "output_type": "stream",
          "name": "stdout",
          "text": [
            "Phat: 0.4695238 \n",
            "Critical Value: 1.959964 \n",
            "95 % Confidence Interval: ( 0.4393371 ,  0.4997105 )\n"
          ]
        }
      ]
    },
    {
      "cell_type": "markdown",
      "source": [
        "**Example 3:**  A Gallup poll conducted in November 2010 found that 493 of 1050 adult Americans believe it is the responsibility of the federal government to make sure all Americans have healthcare coverage.  Construct and interpret a 95% confidence interval for the proportion of adult Americans who believe it is the responsibility of the federal government to make sure all Americans have healthcare coverage."
      ],
      "metadata": {
        "id": "WfG59eeBpGjh"
      }
    },
    {
      "cell_type": "code",
      "source": [
        "#Enter your code here:"
      ],
      "metadata": {
        "id": "sgXBbjYfpLTa"
      },
      "execution_count": null,
      "outputs": []
    },
    {
      "cell_type": "markdown",
      "source": [
        "**Practice 1:**  The drug Lipitor is meant to lower cholesterol levels.  In a clinical trial of 863 patients who received 10-mg doses of Lipitor daily, 47 reported a headache as a side effect.  Obtain a 99% confidence interval for the proportion of patients who reported a headache.  Interpret the interval."
      ],
      "metadata": {
        "id": "cTANG2ivpQ18"
      }
    },
    {
      "cell_type": "code",
      "source": [
        "# Enter your values here:\n",
        "x = 47\n",
        "n = 863\n",
        "confidence_level = 0.99\n",
        "#************************************\n",
        "\n",
        "# Calculate the point estimator\n",
        "sample_proportion = x/n\n",
        "\n",
        "# Pass the sample size\n",
        "sample_size = n\n",
        "\n",
        "# Calculate the standard error\n",
        "standard_error <- sqrt((sample_proportion * (1 - sample_proportion)) / sample_size)\n",
        "\n",
        "# Calculate the margin of error\n",
        "z_score <- qnorm((1 + confidence_level) / 2)\n",
        "margin_of_error <- z_score * standard_error\n",
        "\n",
        "# Calculate the lower and upper bounds of the confidence interval\n",
        "lower_bound <- sample_proportion - margin_of_error\n",
        "upper_bound <- sample_proportion + margin_of_error\n",
        "\n",
        "# Print the point estimate\n",
        "cat(\"Phat:\", sample_proportion,'\\n')\n",
        "# Print the Critical Value\n",
        "cat(\"Critical Value:\",z_score,'\\n')\n",
        "#Print the confidence interval\n",
        "cat(confidence_level*100,\"%\",\"Confidence Interval: (\", lower_bound, \", \", upper_bound, \")\\n\")\n"
      ],
      "metadata": {
        "id": "SN70pHn0pVWO",
        "colab": {
          "base_uri": "https://localhost:8080/"
        },
        "outputId": "2a625895-21ca-49a7-bc4c-ef83a2736fc7"
      },
      "execution_count": 3,
      "outputs": [
        {
          "output_type": "stream",
          "name": "stdout",
          "text": [
            "Phat: 0.05446118 \n",
            "Critical Value: 2.575829 \n",
            "99 % Confidence Interval: ( 0.03456385 ,  0.07435852 )\n"
          ]
        }
      ]
    },
    {
      "cell_type": "markdown",
      "source": [
        "#Sample Size for Estimating the Population Proportion p"
      ],
      "metadata": {
        "id": "qkbzzLu-pYYm"
      }
    },
    {
      "cell_type": "markdown",
      "source": [
        "**Example 4:**  An urban economist wishes to estimate the percentage of Americans who own their house.  What size should be obtained if she wishes the estimate to be within 2 percentage points with 96% confidence if\n",
        "\n",
        "**(a)**  she uses an estimate of 67.5% from the fourth quarter of 2000 obtained from the U.S. Census Bureau?"
      ],
      "metadata": {
        "id": "p2obBt9Xpb_U"
      }
    },
    {
      "cell_type": "code",
      "source": [
        "# Enter your values here:\n",
        "confidence_level = 0.96\n",
        "estimated_proportion = 0.675\n",
        "margin_of_error = 0.02\n",
        "#***************************************\n",
        "\n",
        "# Calculate the critical value (Z)\n",
        "z_score <- qnorm((1 + confidence_level) / 2)\n",
        "\n",
        "# Calculate the sample size\n",
        "required_sample_size <- estimated_proportion * (1 - estimated_proportion)*(z_score^2/margin_of_error^2)\n",
        "\n",
        "# Round the sample size to the nearest whole number\n",
        "required_sample_size <- ceiling(required_sample_size)\n",
        "\n",
        "# Print the Critical Value\n",
        "cat(\"Critical Value:\",z_score,'\\n')\n",
        "\n",
        "# Print the required sample size\n",
        "cat(\"Required Sample Size:\", required_sample_size, \"\\n\")\n"
      ],
      "metadata": {
        "id": "iOxXZZSHpj_a",
        "colab": {
          "base_uri": "https://localhost:8080/"
        },
        "outputId": "65a91bc4-4e48-4e4a-90a9-01a1d08bc4ba"
      },
      "execution_count": 4,
      "outputs": [
        {
          "output_type": "stream",
          "name": "stdout",
          "text": [
            "Critical Value: 2.053749 \n",
            "Required Sample Size: 2314 \n"
          ]
        }
      ]
    },
    {
      "cell_type": "markdown",
      "source": [
        "**(b)**  She does not use any prior estimates?"
      ],
      "metadata": {
        "id": "_hMSzwTbpnEY"
      }
    },
    {
      "cell_type": "code",
      "source": [
        "# Enter your values here:\n",
        "confidence_level = 0.96\n",
        "estimated_proportion = 0.5  # no prior estimates change it to .50\n",
        "margin_of_error = 0.02\n",
        "#***************************************\n",
        "\n",
        "# Calculate the critical value (Z)\n",
        "z_score <- qnorm((1 + confidence_level) / 2)\n",
        "\n",
        "# Calculate the sample size\n",
        "required_sample_size <- estimated_proportion * (1 - estimated_proportion)*(z_score^2/margin_of_error^2)\n",
        "\n",
        "# Round the sample size to the nearest whole number\n",
        "required_sample_size <- ceiling(required_sample_size)\n",
        "\n",
        "# Print the Critical Value\n",
        "cat(\"Critical Value:\",z_score,'\\n')\n",
        "\n",
        "# Print the required sample size\n",
        "cat(\"Required Sample Size:\", required_sample_size, \"\\n\")\n"
      ],
      "metadata": {
        "id": "CQXx42xJpq-k",
        "colab": {
          "base_uri": "https://localhost:8080/"
        },
        "outputId": "56e5f97c-20e4-4828-c587-4e22c4f3a7fc"
      },
      "execution_count": 5,
      "outputs": [
        {
          "output_type": "stream",
          "name": "stdout",
          "text": [
            "Critical Value: 2.053749 \n",
            "Required Sample Size: 2637 \n"
          ]
        }
      ]
    },
    {
      "cell_type": "markdown",
      "source": [
        "**Practice 2:**   A school administrator is concerned about the amount of credit-card debt that college students have.  She wishes to conduct a poll to estimate the percentage of full-time college students who have a credit-card debt of $2000 or more.  What sample size should be obtained if she wishes the estimate to be within 2.5 percentage points with 94% confidence if a pilot study indicates that the percentage of students is 34%."
      ],
      "metadata": {
        "id": "eiJ0NTMzpye4"
      }
    },
    {
      "cell_type": "code",
      "source": [
        "# Enter your values here:\n",
        "confidence_level = 0.94\n",
        "estimated_proportion = 0.34\n",
        "margin_of_error = 0.025\n",
        "#***************************************\n",
        "\n",
        "# Calculate the critical value (Z)\n",
        "z_score <- qnorm((1 + confidence_level) / 2)\n",
        "\n",
        "# Calculate the sample size\n",
        "required_sample_size <- estimated_proportion * (1 - estimated_proportion)*(z_score^2/margin_of_error^2)\n",
        "\n",
        "# Round the sample size to the nearest whole number\n",
        "required_sample_size <- ceiling(required_sample_size)\n",
        "\n",
        "# Print the Critical Value\n",
        "cat(\"Critical Value:\",z_score,'\\n')\n",
        "\n",
        "# Print the required sample size\n",
        "cat(\"Required Sample Size:\", required_sample_size, \"\\n\")"
      ],
      "metadata": {
        "id": "v7RbJL8Gp4M8",
        "colab": {
          "base_uri": "https://localhost:8080/"
        },
        "outputId": "01a7742b-e666-4002-d5fe-bbb1970d8698"
      },
      "execution_count": 6,
      "outputs": [
        {
          "output_type": "stream",
          "name": "stdout",
          "text": [
            "Critical Value: 1.880794 \n",
            "Required Sample Size: 1271 \n"
          ]
        }
      ]
    },
    {
      "cell_type": "markdown",
      "source": [
        "#HW 7.1"
      ],
      "metadata": {
        "id": "wtCrfrr_Hwqs"
      }
    },
    {
      "cell_type": "markdown",
      "source": [
        "**Question 1** No code"
      ],
      "metadata": {
        "id": "Evs-oYMHHzZh"
      }
    },
    {
      "cell_type": "markdown",
      "source": [
        "**Question 2**"
      ],
      "metadata": {
        "id": "6iA0IILmIHgC"
      }
    },
    {
      "cell_type": "code",
      "source": [
        "# Enter your values here:\n",
        "confidence_level = 0.98\n",
        "#***************************************\n",
        "\n",
        "# Calculate the critical value (Z)\n",
        "z_score <- qnorm((1 + confidence_level) / 2)\n",
        "\n",
        "# Print the Critical Value\n",
        "cat(\"Critical Value:\",z_score,'\\n')\n",
        "\n"
      ],
      "metadata": {
        "colab": {
          "base_uri": "https://localhost:8080/"
        },
        "id": "BBPly7nlIKRc",
        "outputId": "d8e2898a-73d1-46f7-e599-106f7ffc2c46"
      },
      "execution_count": 7,
      "outputs": [
        {
          "output_type": "stream",
          "name": "stdout",
          "text": [
            "Critical Value: 2.326348 \n"
          ]
        }
      ]
    },
    {
      "cell_type": "markdown",
      "source": [
        "**Question 3**"
      ],
      "metadata": {
        "id": "V9QkI2n_Ih1T"
      }
    },
    {
      "cell_type": "code",
      "source": [
        "# Enter your values here:\n",
        "x = 94\n",
        "n = 100\n",
        "confidence_level = 0.99\n",
        "#************************************\n",
        "\n",
        "# Calculate the point estimator\n",
        "sample_proportion = x/n\n",
        "\n",
        "# Pass the sample size\n",
        "sample_size = n\n",
        "\n",
        "# Calculate the standard error\n",
        "standard_error <- sqrt((sample_proportion * (1 - sample_proportion)) / sample_size)\n",
        "\n",
        "# Calculate the margin of error\n",
        "z_score <- qnorm((1 + confidence_level) / 2)\n",
        "margin_of_error <- z_score * standard_error\n",
        "\n",
        "# Calculate the lower and upper bounds of the confidence interval\n",
        "lower_bound <- sample_proportion - margin_of_error\n",
        "upper_bound <- sample_proportion + margin_of_error\n",
        "\n",
        "# Print the point estimate\n",
        "cat(\"Phat:\", sample_proportion,'\\n')\n",
        "# Print the Critical Value\n",
        "cat(\"Critical Value:\",z_score,'\\n')\n",
        "#Print the confidence interval\n",
        "cat(confidence_level*100,\"%\",\"Confidence Interval: (\", lower_bound, \", \", upper_bound, \")\\n\")\n"
      ],
      "metadata": {
        "colab": {
          "base_uri": "https://localhost:8080/"
        },
        "id": "usDzwOOIIkU7",
        "outputId": "dd7bd811-e12c-4aa4-d30e-e54bf917781d"
      },
      "execution_count": 8,
      "outputs": [
        {
          "output_type": "stream",
          "name": "stdout",
          "text": [
            "Phat: 0.94 \n",
            "Critical Value: 2.575829 \n",
            "99 % Confidence Interval: ( 0.8788274 ,  1.001173 )\n"
          ]
        }
      ]
    },
    {
      "cell_type": "markdown",
      "source": [
        "**Question 4**"
      ],
      "metadata": {
        "id": "IL35IBSIJDyS"
      }
    },
    {
      "cell_type": "code",
      "source": [
        "x=.33*1000\n",
        "x"
      ],
      "metadata": {
        "colab": {
          "base_uri": "https://localhost:8080/",
          "height": 34
        },
        "id": "j_7tqeNSJejC",
        "outputId": "88250979-09a1-4640-a166-7a66606e41ff"
      },
      "execution_count": 9,
      "outputs": [
        {
          "output_type": "display_data",
          "data": {
            "text/html": [
              "330"
            ],
            "text/markdown": "330",
            "text/latex": "330",
            "text/plain": [
              "[1] 330"
            ]
          },
          "metadata": {}
        }
      ]
    },
    {
      "cell_type": "code",
      "source": [
        "# Enter your values here:\n",
        "x = 330\n",
        "n = 1000\n",
        "confidence_level = 0.95\n",
        "#************************************\n",
        "\n",
        "# Calculate the point estimator\n",
        "sample_proportion = x/n\n",
        "\n",
        "# Pass the sample size\n",
        "sample_size = n\n",
        "\n",
        "# Calculate the standard error\n",
        "standard_error <- sqrt((sample_proportion * (1 - sample_proportion)) / sample_size)\n",
        "\n",
        "# Calculate the margin of error\n",
        "z_score <- qnorm((1 + confidence_level) / 2)\n",
        "margin_of_error <- z_score * standard_error\n",
        "\n",
        "# Calculate the lower and upper bounds of the confidence interval\n",
        "lower_bound <- sample_proportion - margin_of_error\n",
        "upper_bound <- sample_proportion + margin_of_error\n",
        "\n",
        "# Print the point estimate\n",
        "cat(\"Phat:\", sample_proportion,'\\n')\n",
        "# Print the Critical Value\n",
        "cat(\"Critical Value:\",z_score,'\\n')\n",
        "#Print the confidence interval\n",
        "cat(confidence_level*100,\"%\",\"Confidence Interval: (\", lower_bound, \", \", upper_bound, \")\\n\")\n"
      ],
      "metadata": {
        "colab": {
          "base_uri": "https://localhost:8080/"
        },
        "id": "a2Gvp1-pJEuE",
        "outputId": "e168206e-ff00-4135-ff94-0f538e1b035b"
      },
      "execution_count": 10,
      "outputs": [
        {
          "output_type": "stream",
          "name": "stdout",
          "text": [
            "Phat: 0.33 \n",
            "Critical Value: 1.959964 \n",
            "95 % Confidence Interval: ( 0.3008564 ,  0.3591436 )\n"
          ]
        }
      ]
    },
    {
      "cell_type": "markdown",
      "source": [
        "**Question 5**"
      ],
      "metadata": {
        "id": "7VFNDlDFKI3G"
      }
    },
    {
      "cell_type": "code",
      "source": [
        "# Enter your values here:\n",
        "x = 1738\n",
        "n = 2397\n",
        "confidence_level = 0.92\n",
        "#************************************\n",
        "\n",
        "# Calculate the point estimator\n",
        "sample_proportion = x/n\n",
        "\n",
        "# Pass the sample size\n",
        "sample_size = n\n",
        "\n",
        "# Calculate the standard error\n",
        "standard_error <- sqrt((sample_proportion * (1 - sample_proportion)) / sample_size)\n",
        "\n",
        "# Calculate the margin of error\n",
        "z_score <- qnorm((1 + confidence_level) / 2)\n",
        "margin_of_error <- z_score * standard_error\n",
        "\n",
        "# Calculate the lower and upper bounds of the confidence interval\n",
        "lower_bound <- sample_proportion - margin_of_error\n",
        "upper_bound <- sample_proportion + margin_of_error\n",
        "\n",
        "# Print the point estimate\n",
        "cat(\"Phat:\", sample_proportion,'\\n')\n",
        "# Print the Critical Value\n",
        "cat(\"Critical Value:\",z_score,'\\n')\n",
        "#Print the confidence interval\n",
        "cat(confidence_level*100,\"%\",\"Confidence Interval: (\", lower_bound, \", \", upper_bound, \")\\n\")\n"
      ],
      "metadata": {
        "colab": {
          "base_uri": "https://localhost:8080/"
        },
        "id": "B1E81pIOKOAm",
        "outputId": "f71cd4ea-9767-4a1e-bfca-37bc07daccf6"
      },
      "execution_count": 11,
      "outputs": [
        {
          "output_type": "stream",
          "name": "stdout",
          "text": [
            "Phat: 0.725073 \n",
            "Critical Value: 1.750686 \n",
            "92 % Confidence Interval: ( 0.7091078 ,  0.7410382 )\n"
          ]
        }
      ]
    },
    {
      "cell_type": "markdown",
      "source": [
        "**Question 8**"
      ],
      "metadata": {
        "id": "S9OQq4FMKrlX"
      }
    },
    {
      "cell_type": "code",
      "source": [
        "# Enter your values here:\n",
        "confidence_level = 0.99\n",
        "estimated_proportion = 0.50 # no prior estimated\n",
        "margin_of_error = 0.02\n",
        "#***************************************\n",
        "\n",
        "# Calculate the critical value (Z)\n",
        "z_score <- qnorm((1 + confidence_level) / 2)\n",
        "\n",
        "# Calculate the sample size\n",
        "required_sample_size <- estimated_proportion * (1 - estimated_proportion)*(z_score^2/margin_of_error^2)\n",
        "\n",
        "# Round the sample size to the nearest whole number\n",
        "required_sample_size <- ceiling(required_sample_size)\n",
        "\n",
        "# Print the Critical Value\n",
        "cat(\"Critical Value:\",z_score,'\\n')\n",
        "\n",
        "# Print the required sample size\n",
        "cat(\"Required Sample Size:\", required_sample_size, \"\\n\")"
      ],
      "metadata": {
        "colab": {
          "base_uri": "https://localhost:8080/"
        },
        "id": "FZaklQlEK0If",
        "outputId": "66ccc52c-9f82-4cd1-e27d-724c69ee51cc"
      },
      "execution_count": 12,
      "outputs": [
        {
          "output_type": "stream",
          "name": "stdout",
          "text": [
            "Critical Value: 2.575829 \n",
            "Required Sample Size: 4147 \n"
          ]
        }
      ]
    },
    {
      "cell_type": "markdown",
      "source": [
        "**Question 9**"
      ],
      "metadata": {
        "id": "CXDmMXfkLE_O"
      }
    },
    {
      "cell_type": "code",
      "source": [
        "# Enter your values here:\n",
        "confidence_level = 0.98\n",
        "estimated_proportion = 0.72\n",
        "margin_of_error = 0.04\n",
        "#***************************************\n",
        "\n",
        "# Calculate the critical value (Z)\n",
        "z_score <- qnorm((1 + confidence_level) / 2)\n",
        "\n",
        "# Calculate the sample size\n",
        "required_sample_size <- estimated_proportion * (1 - estimated_proportion)*(z_score^2/margin_of_error^2)\n",
        "\n",
        "# Round the sample size to the nearest whole number\n",
        "required_sample_size <- ceiling(required_sample_size)\n",
        "\n",
        "# Print the Critical Value\n",
        "cat(\"Critical Value:\",z_score,'\\n')\n",
        "\n",
        "# Print the required sample size\n",
        "cat(\"Required Sample Size:\", required_sample_size, \"\\n\")"
      ],
      "metadata": {
        "colab": {
          "base_uri": "https://localhost:8080/"
        },
        "id": "pt0GZwOvLHSk",
        "outputId": "87fbc14a-61ee-4eae-bcfa-8b3667885312"
      },
      "execution_count": 13,
      "outputs": [
        {
          "output_type": "stream",
          "name": "stdout",
          "text": [
            "Critical Value: 2.326348 \n",
            "Required Sample Size: 682 \n"
          ]
        }
      ]
    }
  ]
}