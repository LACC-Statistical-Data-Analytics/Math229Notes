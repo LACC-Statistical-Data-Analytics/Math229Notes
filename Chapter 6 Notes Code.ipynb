{
 "cells": [
  {
   "cell_type": "markdown",
   "metadata": {
    "id": "6GxcO4C4u4rV"
   },
   "source": [
    "<font color=Blue>**Math 229: Statistics for Data Science**</font>\n",
    " \n",
    "<font color=Blue>**Professor: Sarvi**</font>\n",
    " \n",
    "<font color=Blue>**Los Angeles City College**</font>\n"
   ]
  },
  {
   "attachments": {
    "Untitled.png": {
     "image/png": "[encoded data removed]"
    }
   },
   "cell_type": "markdown",
   "metadata": {},
   "source": [
    "![Untitled.png](attachment:Untitled.png)"
   ]
  },
  {
   "cell_type": "markdown",
   "metadata": {},
   "source": [
    "**Example 2**: The probability model below describes the number of thunderstorms that a certain town may experience during a particular month.\n",
    "\n",
    "|  x  |  P(x)  |\n",
    "|----|-------|\n",
    "|  0  |  0.01  |\n",
    "|  1  |  0.03  |\n",
    "|  2  |  0.20  |\n",
    "|  3  |  0.32  |\n",
    "|  4  |  0.44  |"
   ]
  },
  {
   "cell_type": "code",
   "execution_count": null,
   "metadata": {},
   "outputs": [],
   "source": [
    "def calculate_mean_variance_std(x_values, probabilities):\n",
    "    if len(x_values) != len(probabilities):\n",
    "        raise ValueError(\"x_values and probabilities must have the same length.\")\n",
    "\n",
    "    mean = sum(x * p for x, p in zip(x_values, probabilities))\n",
    "\n",
    "    variance = sum((x - mean) ** 2 * p for x, p in zip(x_values, probabilities))\n",
    "\n",
    "    std_deviation = variance ** 0.5\n",
    "\n",
    "    return mean, variance, std_deviation\n",
    "\n",
    "# Example usage:\n",
    "x_values = [0, 1, 2, 3, 4]\n",
    "probabilities = [0.01, 0.03, 0.20, 0.32, 0.44]\n",
    "\n",
    "mean, variance, std_dev = calculate_mean_variance_std(x_values, probabilities)\n",
    "print(f\"Mean: {mean}\")\n",
    "print(f\"Variance: {variance}\")\n",
    "print(f\"Standard Deviation: {std_dev}\")"
   ]
  },
  {
   "cell_type": "markdown",
   "metadata": {
    "id": "DQosn2DK7kc1"
   },
   "source": [
    "# Binomial Distribution\n"
   ]
  },
  {
   "cell_type": "markdown",
   "metadata": {},
   "source": [
    "**Example 2:** According to the Information Please almanac, 80% of adult smokers started smoking before turning 18 years old. Suppose a random sample of 20 smokers 18 years or older were surveyed. What is the probability that…"
   ]
  },
  {
   "cell_type": "markdown",
   "metadata": {},
   "source": [
    "**(a)** exactly 8 of them started smoking before 18 years of age?"
   ]
  },
  {
   "cell_type": "code",
   "execution_count": null,
   "metadata": {},
   "outputs": [],
   "source": [
    "from scipy.stats import binom\n",
    "binom.pmf() #input x, n, p\n"
   ]
  },
  {
   "cell_type": "markdown",
   "metadata": {},
   "source": [
    "**(b)** at least 8 of them started smoking before 18 years of age?"
   ]
  },
  {
   "cell_type": "code",
   "execution_count": null,
   "metadata": {},
   "outputs": [],
   "source": [
    "1-binom.cdf(7,20,.8) #input x-1, n, p"
   ]
  },
  {
   "cell_type": "markdown",
   "metadata": {},
   "source": [
    "**(c)** fewer than 8 of them started smoking before 18 years of age?"
   ]
  },
  {
   "cell_type": "code",
   "execution_count": null,
   "metadata": {},
   "outputs": [],
   "source": [
    "binom.cdf() #input x-1, n, p"
   ]
  },
  {
   "cell_type": "markdown",
   "metadata": {},
   "source": [
    "**(d)** between 7 and 9 of them, inclusive, started smoking before 18 years of age?"
   ]
  },
  {
   "cell_type": "code",
   "execution_count": null,
   "metadata": {
    "colab": {
     "base_uri": "https://localhost:8080/"
    },
    "executionInfo": {
     "elapsed": 280,
     "status": "ok",
     "timestamp": 1701367182696,
     "user": {
      "displayName": "Moises Ortiz",
      "userId": "06229367052278498673"
     },
     "user_tz": 480
    },
    "id": "B_LrdvlAUZXn",
    "outputId": "8a3de58f-3fca-4779-f1b4-a703c23954fc"
   },
   "outputs": [],
   "source": [
    "binom.pmf()+binom.pmf()+binom.pmf() #input x,n,p for each\n"
   ]
  },
  {
   "cell_type": "markdown",
   "metadata": {},
   "source": [
    "**Input Program Alternative**"
   ]
  },
  {
   "cell_type": "code",
   "execution_count": null,
   "metadata": {
    "colab": {
     "base_uri": "https://localhost:8080/"
    },
    "executionInfo": {
     "elapsed": 22714,
     "status": "ok",
     "timestamp": 1702361015036,
     "user": {
      "displayName": "kalkidan jemere",
      "userId": "17251464048902754779"
     },
     "user_tz": 480
    },
    "id": "cepSwdotFTT7",
    "outputId": "cc0b6758-f829-4ae0-c9f2-8234d4875c0b"
   },
   "outputs": [],
   "source": [
    "from scipy.stats import binom\n",
    "\n",
    "print(\"===============\")\n",
    "print(\"Menu Options\")\n",
    "print(\"===============\")\n",
    "\n",
    "print(\"1. Exactly\")\n",
    "print(\"2. No more than, at most, less than or equal, #or less\")\n",
    "print(\"3. At least, no less than, greater than or equal to, # or more\")\n",
    "print(\"4. More than, greater than, exceeds\")\n",
    "print(\"5. Between\")\n",
    "print(\"6. Fewer than, less than\")\n",
    "print()\n",
    "\n",
    "def calculate_binomial_probability(x, n, p, option):\n",
    "    if option == \"1\":\n",
    "        return binom.pmf(x, n, p)\n",
    "    elif option == \"2\":\n",
    "        return binom.cdf(x, n, p)\n",
    "    elif option == \"3\":\n",
    "        return 1 - binom.cdf(x - 1, n, p)\n",
    "    elif option == \"5\":\n",
    "        return binom.cdf(x[1], n, p) - binom.cdf(x[0] - 1, n, p)\n",
    "    elif option == \"4\":\n",
    "        return 1 - binom.cdf(x, n, p)\n",
    "    elif option == \"6\":\n",
    "        return binom.cdf(x - 1, n, p)\n",
    "    else:\n",
    "        return \"Invalid option.\"\n",
    "\n",
    "# Get user inputs\n",
    "x = int(input(\"Enter the number of successes (x): \"))\n",
    "n = int(input(\"Enter the total number of trials (n): \"))\n",
    "p = float(input(\"Enter the probability of success (p): \"))\n",
    "option = input(\"Enter a numeric menu option:\")\n",
    "\n",
    "# If the option is 'between,' get the range [a, b]\n",
    "if option == \"5\":\n",
    "    a = int(input(\"Enter the lower bound (a): \"))\n",
    "    b = int(input(\"Enter the upper bound (b): \"))\n",
    "    x = (a, b)\n",
    "    \n",
    "# Calculate and print the probability\n",
    "probability = calculate_binomial_probability(x, n, p, option)\n",
    "print(\"Probability:\", probability)"
   ]
  },
  {
   "cell_type": "markdown",
   "metadata": {},
   "source": [
    "**Example 3:** The probability that a new car of a certain model will require repairs during the warranty period is 15%. A particular dealership sells 80 such cars. Let X be the number that will require repairs during the warranty period. Find the mean and standard deviation of X."
   ]
  },
  {
   "cell_type": "code",
   "execution_count": null,
   "metadata": {
    "colab": {
     "base_uri": "https://localhost:8080/"
    },
    "executionInfo": {
     "elapsed": 147,
     "status": "ok",
     "timestamp": 1702361061841,
     "user": {
      "displayName": "kalkidan jemere",
      "userId": "17251464048902754779"
     },
     "user_tz": 480
    },
    "id": "Vr0Jic8rC1iD",
    "outputId": "1ba012e5-a10b-4c4c-8341-563aacd095f0"
   },
   "outputs": [],
   "source": [
    "import math\n",
    "\n",
    "#enter the values here\n",
    "n=10\n",
    "p=.8\n",
    "mean = n*p\n",
    "stdev = math.sqrt (n*p*(1-p))\n",
    "\n",
    "print(\"The mean is:\",mean)\n",
    "print(\"The SD is:\",stdev)"
   ]
  }
 ],
 "metadata": {
  "colab": {
   "provenance": []
  },
  "kernelspec": {
   "display_name": "Python 3 (ipykernel)",
   "language": "python",
   "name": "python3"
  },
  "language_info": {
   "codemirror_mode": {
    "name": "ipython",
    "version": 3
   },
   "file_extension": ".py",
   "mimetype": "text/x-python",
   "name": "python",
   "nbconvert_exporter": "python",
   "pygments_lexer": "ipython3",
   "version": "3.10.11"
  }
 },
 "nbformat": 4,
 "nbformat_minor": 1
}
