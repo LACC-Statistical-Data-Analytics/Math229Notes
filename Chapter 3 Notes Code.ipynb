{
 "cells": [
  {
   "attachments": {
    "LACC.png": {
     "image/png": "[encoded data removed]"
    }
   },
   "cell_type": "markdown",
   "id": "f6e4b0d7",
   "metadata": {},
   "source": [
    "![LACC.png](attachment:LACC.png)"
   ]
  },
  {
   "cell_type": "markdown",
   "id": "0c8b728b",
   "metadata": {},
   "source": [
    "<font color=Blue>**Math 229: Statistics for Data Science**</font>\n",
    " \n",
    " <font color=Blue>**Professor: Sarvi**</font>\n",
    " \n",
    "  <font color=Blue>**Los Angeles City College**</font>"
   ]
  },
  {
   "cell_type": "markdown",
   "id": "91f7cf3b",
   "metadata": {},
   "source": [
    "# Measure of Center"
   ]
  },
  {
   "cell_type": "markdown",
   "id": "bc9b95fc",
   "metadata": {},
   "source": [
    "# Mean"
   ]
  },
  {
   "cell_type": "markdown",
   "id": "7d680fef",
   "metadata": {},
   "source": [
    "**Example 1:** Suppose there is an exam given to a statistics class with 16 students.  The scores were as follows:  73, 74, 85, 83, 89, 91, 97, 67, 65, 75, 79, 1, 78, 89, 92, 86\n",
    "\n",
    "(a)  Compute the population mean."
   ]
  },
  {
   "cell_type": "code",
   "execution_count": 4,
   "id": "cdcec8d8",
   "metadata": {},
   "outputs": [
    {
     "name": "stdout",
     "output_type": "stream",
     "text": [
      "The mean is: 76.5\n",
      "The mean is: 76.5\n",
      "The mean is: 76.5\n"
     ]
    }
   ],
   "source": [
    "# Finding the mean from scratch\n",
    "dataset = [73,74,85,83,89,91,97,67,65,75,79,1,78,89,92,86]\n",
    "mean = sum(dataset)/len(dataset)\n",
    "print('The mean is:',mean)\n",
    "\n",
    "# Using Nympy library\n",
    "import numpy as np\n",
    "dataset = [73,74,85,83,89,91,97,67,65,75,79,1,78,89,92,86]\n",
    "mean = np.mean(dataset)\n",
    "print ('The mean is:',mean)\n",
    "\n",
    "\n",
    "# Import statistics Library\n",
    "import statistics\n",
    "# Calculate average values\n",
    "dataset = [73,74,85,83,89,91,97,67,65,75,79,1,78,89,92,86]\n",
    "mean = statistics.mean(dataset)\n",
    "print ('The mean is:',mean)"
   ]
  },
  {
   "cell_type": "markdown",
   "id": "ec6e6e48",
   "metadata": {},
   "source": [
    "(b)  Use the sample of 7 test scores given below to compute the sample mean. 73,83,89,97,65,75,79"
   ]
  },
  {
   "cell_type": "code",
   "execution_count": 6,
   "id": "bed1ac9a",
   "metadata": {},
   "outputs": [
    {
     "name": "stdout",
     "output_type": "stream",
     "text": [
      "The mean is: 80.14\n",
      "The mean is: 80.14\n",
      "The mean is: 80.14\n"
     ]
    }
   ],
   "source": [
    "# Finding the mean from scratch\n",
    "dataset = [73,83, 89, 97, 65, 75, 79]\n",
    "mean = sum(dataset)/len(dataset)\n",
    "rounded_mean = round(mean, 2)\n",
    "print('The mean is:', rounded_mean)\n",
    "\n",
    "\n",
    "# Using Nympy library\n",
    "import numpy as np\n",
    "dataset = [73,83, 89, 97, 65, 75, 79]\n",
    "mean = np.mean(dataset)\n",
    "rounded_mean = round(mean, 2)\n",
    "print('The mean is:', rounded_mean)\n",
    "\n",
    "\n",
    "# Import statistics Library\n",
    "import statistics\n",
    "# Calculate average values\n",
    "dataset = [73,83, 89, 97, 65, 75, 79]\n",
    "mean = statistics.mean(dataset)\n",
    "rounded_mean = round(mean, 2)\n",
    "print ('The mean is:',rounded_mean)\n"
   ]
  },
  {
   "cell_type": "markdown",
   "id": "62daa008",
   "metadata": {},
   "source": [
    "(c)  Use the sample of 7 test scores given below to compute the sample mean.\n",
    "\n",
    "     1          83        89        97        65        75        79"
   ]
  },
  {
   "cell_type": "code",
   "execution_count": 5,
   "id": "20cab895",
   "metadata": {},
   "outputs": [
    {
     "name": "stdout",
     "output_type": "stream",
     "text": [
      "The mean is: 69.86\n",
      "The mean is: 69.86\n",
      "The mean is: 69.86\n"
     ]
    }
   ],
   "source": [
    "# Finding the mean from scratch\n",
    "dataset = [1, 83, 89, 97, 65, 75, 79]\n",
    "mean = sum(dataset)/len(dataset)\n",
    "rounded_mean = round(mean, 2)\n",
    "print('The mean is:', rounded_mean)\n",
    "\n",
    "\n",
    "# Using Nympy library\n",
    "import numpy as np\n",
    "dataset = [1, 83, 89, 97, 65, 75, 79]\n",
    "mean = np.mean(dataset)\n",
    "rounded_mean = round(mean, 2)\n",
    "print('The mean is:', rounded_mean)\n",
    "\n",
    "\n",
    "# Import statistics Library\n",
    "import statistics\n",
    "# Calculate average values\n",
    "dataset = [1, 83, 89, 97, 65, 75, 79]\n",
    "mean = statistics.mean(dataset)\n",
    "rounded_mean = round(mean, 2)\n",
    "print ('The mean is:',rounded_mean)"
   ]
  },
  {
   "cell_type": "markdown",
   "id": "51eb0a6c",
   "metadata": {},
   "source": [
    "# Median"
   ]
  },
  {
   "cell_type": "markdown",
   "id": "fa7460dc",
   "metadata": {},
   "source": [
    "**Example 2:**  Compute the following medians from the data given in Example 1."
   ]
  },
  {
   "cell_type": "markdown",
   "id": "815b1308",
   "metadata": {},
   "source": [
    "(a)  Compute the median for the following: \n",
    "\n",
    "    73        83        89        97        65        75        79"
   ]
  },
  {
   "cell_type": "code",
   "execution_count": 8,
   "id": "2e4330cb",
   "metadata": {},
   "outputs": [
    {
     "name": "stdout",
     "output_type": "stream",
     "text": [
      "The median is: 79.0\n",
      "The median is: 79\n"
     ]
    }
   ],
   "source": [
    "# Importing Numpy library\n",
    "import numpy as np\n",
    "# Finding the median\n",
    "dataset = [73, 83, 89, 97, 65, 75, 79]\n",
    "median = np.median(dataset)\n",
    "print ('The median is:',median)\n",
    "\n",
    "\n",
    "# Import statistics Library\n",
    "import statistics\n",
    "dataset = [73, 83, 89, 97, 65, 75, 79]\n",
    "median = statistics.median(dataset)\n",
    "print ('The median is:',median)"
   ]
  },
  {
   "cell_type": "markdown",
   "id": "360191b9",
   "metadata": {},
   "source": [
    "(b)  Compute the median for the following:\n",
    "\n",
    "    1          83        89        97        65        75        79"
   ]
  },
  {
   "cell_type": "code",
   "execution_count": 9,
   "id": "a2725902",
   "metadata": {},
   "outputs": [
    {
     "name": "stdout",
     "output_type": "stream",
     "text": [
      "The median is: 79.0\n",
      "The median is: 79\n"
     ]
    }
   ],
   "source": [
    "# Importing Numpy library\n",
    "import numpy as np\n",
    "# Finding the median\n",
    "dataset = [1, 83, 89, 97, 65, 75, 79]\n",
    "median = np.median(dataset)\n",
    "print ('The median is:',median)\n",
    "\n",
    "\n",
    "# Import statistics Library\n",
    "import statistics\n",
    "dataset = [1, 83, 89, 97, 65, 75, 79]\n",
    "median = statistics.median(dataset)\n",
    "# Calculate middle values\n",
    "print ('The median is:',median)"
   ]
  },
  {
   "cell_type": "markdown",
   "id": "c4fe48cc",
   "metadata": {},
   "source": [
    "Find the median for the set of exam scores: 73, 74, 85, 83, 89, 91, 97, 67, 65, 75, 79, 1, 78, 89, 92, 86. "
   ]
  },
  {
   "cell_type": "code",
   "execution_count": 10,
   "id": "b5628709",
   "metadata": {},
   "outputs": [
    {
     "name": "stdout",
     "output_type": "stream",
     "text": [
      "The median is: 81.0\n"
     ]
    }
   ],
   "source": [
    "# Importing library\n",
    "import numpy as np\n",
    "\n",
    "# Finding the median\n",
    "dataset = [73, 74, 85, 83, 89, 91, 97, 67, 65, 75, 79, 1, 78, 89, 92, 86]\n",
    "median = np.median(dataset)\n",
    "print ('The median is:',median)"
   ]
  },
  {
   "cell_type": "markdown",
   "id": "498f4d76",
   "metadata": {},
   "source": [
    "# Mode"
   ]
  },
  {
   "cell_type": "markdown",
   "id": "7beef2ce",
   "metadata": {},
   "source": [
    "**Example 3a:**  Find the mode for the following data sets.\n",
    "\n",
    "(a)  0, 2, 4, 6, 0, 8, 9, 4, 6, 0, 3"
   ]
  },
  {
   "cell_type": "code",
   "execution_count": 11,
   "id": "c58423fd",
   "metadata": {},
   "outputs": [
    {
     "name": "stdout",
     "output_type": "stream",
     "text": [
      "The mode is: [0]\n"
     ]
    }
   ],
   "source": [
    "# Importing library\n",
    "import statistics\n",
    "\n",
    "# Finding the Mode\n",
    "dataset = [0,2,4,6,0,8,9,4,6,0,3]\n",
    "modes = statistics.multimode(dataset)\n",
    "\n",
    "# If no mode in the dataset, it will display \"The dataset has no mode\"\n",
    "if len(modes) == len(dataset):\n",
    "    print('The dataset has no mode.')\n",
    "    \n",
    "# Else if there is a mode in the dataset, it will print the value  \n",
    "else:\n",
    "    print('The mode is:', modes)"
   ]
  },
  {
   "cell_type": "markdown",
   "id": "2c7ceaa7",
   "metadata": {},
   "source": [
    "**Example 3b:** Find the mode for the following data sets.\n",
    "87, 93, 57, 63, 98, 52"
   ]
  },
  {
   "cell_type": "code",
   "execution_count": 12,
   "id": "fef73993",
   "metadata": {},
   "outputs": [
    {
     "name": "stdout",
     "output_type": "stream",
     "text": [
      "The dataset has no mode.\n"
     ]
    }
   ],
   "source": [
    "# Importing library    \n",
    "import statistics\n",
    "\n",
    "# Finding the Mode when there is no mode in the dataset\n",
    "dataset = [87, 93, 57, 63, 98, 52]\n",
    "modes = statistics.multimode(dataset)\n",
    "\n",
    "# If no mode in the dataset it will display \"The dataset has no mode\"\n",
    "if len(modes) == len(dataset):\n",
    "    print('The dataset has no mode.')\n",
    "    \n",
    "# Else if there is a mode in the dataset it will print the value  \n",
    "else:\n",
    "    print('The mode is:', modes)"
   ]
  },
  {
   "cell_type": "markdown",
   "id": "34a6d9b8",
   "metadata": {},
   "source": [
    "**Example 3c:** Hair color of ten people in line: Brown, Blonde, Red, Brown, Brown, Blonde, Brown, Blonde, Blonde, Red"
   ]
  },
  {
   "cell_type": "code",
   "execution_count": 14,
   "id": "d215ff90",
   "metadata": {},
   "outputs": [
    {
     "name": "stdout",
     "output_type": "stream",
     "text": [
      "The mode is: ['Brown', 'Blonde']\n"
     ]
    }
   ],
   "source": [
    "# Importing library    \n",
    "import statistics\n",
    "\n",
    "# Finding the Mode when there is no mode in the dataset\n",
    "dataset = ['Brown', 'Blonde', 'Red', 'Brown', 'Brown', 'Blonde', 'Brown', 'Blonde', 'Blonde', 'Red']\n",
    "modes = statistics.multimode(dataset)\n",
    "\n",
    "# If no mode in the dataset it will display \"The dataset has no mode\"\n",
    "if len(modes) == len(dataset):\n",
    "    print('The dataset has no mode.')\n",
    "    \n",
    "# Else if there is a mode in the dataset it will print the value  \n",
    "else:\n",
    "    print('The mode is:', modes)"
   ]
  },
  {
   "cell_type": "markdown",
   "id": "46518a78",
   "metadata": {},
   "source": [
    "# Measures of Dispersion"
   ]
  },
  {
   "cell_type": "markdown",
   "id": "7e076165",
   "metadata": {},
   "source": [
    "# Range"
   ]
  },
  {
   "cell_type": "markdown",
   "id": "5a420c0c",
   "metadata": {},
   "source": [
    "**Example 1a:**  Compute the range for the following two data sets.\n",
    "\n",
    "(a)   5,  10,  2,  5,  6,  10,  8,  12"
   ]
  },
  {
   "cell_type": "code",
   "execution_count": 1,
   "id": "d53ab28e",
   "metadata": {},
   "outputs": [
    {
     "name": "stdout",
     "output_type": "stream",
     "text": [
      "The range is 10\n"
     ]
    }
   ],
   "source": [
    "# Finding the range\n",
    "dataset = [5, 10, 2, 5, 6, 10, 8, 12]\n",
    "range = max(dataset)-min(dataset)\n",
    "print('The range is',range)"
   ]
  },
  {
   "cell_type": "markdown",
   "id": "fcf2dfcf",
   "metadata": {},
   "source": [
    "**Example 1b:** Compute the range for the following two data sets.\n",
    "\n",
    "(b) 5,  10,  2,  5,   6,  10,  8,  40 "
   ]
  },
  {
   "cell_type": "code",
   "execution_count": 3,
   "id": "c834de56",
   "metadata": {},
   "outputs": [
    {
     "name": "stdout",
     "output_type": "stream",
     "text": [
      "The range is 38\n"
     ]
    }
   ],
   "source": [
    "# Finding the range\n",
    "dataset = [5, 10,  2, 5, 6, 10,  8,  40]\n",
    "range = max(dataset)-min(dataset)\n",
    "print('The range is',range)"
   ]
  },
  {
   "cell_type": "markdown",
   "id": "3bca6357",
   "metadata": {},
   "source": [
    "# Population and Sample Variance and SD"
   ]
  },
  {
   "cell_type": "markdown",
   "id": "cff3e212",
   "metadata": {},
   "source": [
    "**Example 2:**  Find both the population variance and standard deviation of the data 2, 3, and 7."
   ]
  },
  {
   "cell_type": "code",
   "execution_count": 13,
   "id": "4a7896d8",
   "metadata": {},
   "outputs": [
    {
     "name": "stdout",
     "output_type": "stream",
     "text": [
      "The population variance is 4.67\n",
      "The population standard deviation is 2.16\n"
     ]
    }
   ],
   "source": [
    "# Importing library\n",
    "import statistics\n",
    "\n",
    "dataset = [2, 3, 7]\n",
    "\n",
    "# Population Varience and rounding to two demimal places\n",
    "popvariance = statistics.pvariance(dataset)\n",
    "rounded_popvariance = round(popvariance, 2)\n",
    "\n",
    "# Population Standard Deviation and rounding to two demimal places\n",
    "popstdev = statistics.pstdev(dataset)\n",
    "rounded_popstdev = round(popstdev, 2)\n",
    "print('The population variance is', rounded_popvariance)\n",
    "print ('The population standard deviation is', rounded_popstdev)\n"
   ]
  },
  {
   "cell_type": "code",
   "execution_count": 22,
   "id": "6dc298e0",
   "metadata": {},
   "outputs": [
    {
     "name": "stdout",
     "output_type": "stream",
     "text": [
      "The sample variance is 7\n",
      "The sample standard deviation is 2.65\n"
     ]
    }
   ],
   "source": [
    "# Importing library\n",
    "import statistics\n",
    "\n",
    "dataset = [2, 3, 7]\n",
    "\n",
    "# Sample Varience and rounding to two decimal places\n",
    "variance = statistics.variance(dataset)\n",
    "rounded_variance = round(variance, 2)\n",
    "\n",
    "# Sample Standard Deviation and rounding to two decimal places\n",
    "stdev = statistics.stdev(dataset)\n",
    "rounded_stdev = round(stdev, 2)\n",
    "print('The sample variance is', rounded_variance)\n",
    "print ('The sample standard deviation is', rounded_stdev)"
   ]
  }
 ],
 "metadata": {
  "kernelspec": {
   "display_name": "Python 3 (ipykernel)",
   "language": "python",
   "name": "python3"
  },
  "language_info": {
   "codemirror_mode": {
    "name": "ipython",
    "version": 3
   },
   "file_extension": ".py",
   "mimetype": "text/x-python",
   "name": "python",
   "nbconvert_exporter": "python",
   "pygments_lexer": "ipython3",
   "version": "3.10.11"
  }
 },
 "nbformat": 4,
 "nbformat_minor": 5
}
