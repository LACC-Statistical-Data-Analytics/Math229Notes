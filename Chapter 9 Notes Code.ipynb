{
 "cells": [
  {
   "cell_type": "markdown",
   "id": "88d44f9d",
   "metadata": {},
   "source": [
    "<font color=Blue>**Math 229: Statistics for Data Science**</font>\n",
    " \n",
    "<font color=Blue>**Professor: Sarvi**</font>\n",
    " \n",
    "<font color=Blue>**Los Angeles City College**</font>"
   ]
  },
  {
   "attachments": {
    "LACC.png": {
     "image/png": "[encoded data removed]"
    }
   },
   "cell_type": "markdown",
   "id": "25282c28",
   "metadata": {},
   "source": [
    "![LACC.png](attachment:LACC.png)"
   ]
  },
  {
   "cell_type": "markdown",
   "id": "8dfe0f97",
   "metadata": {},
   "source": [
    "# Hypothesis Testing of Means"
   ]
  },
  {
   "cell_type": "markdown",
   "id": "638de1a2",
   "metadata": {},
   "source": [
    "**Example 1:** The American Automobile Association reported that the mean price of a gallon of regular grade gasoline in the city of Los Angeles in January 2017 was $2.82.\n",
    "\n",
    "A recently taken simple randoom sample of 50 gas stations in Los Angeles has an average price of $2.77 for a gallon of regular grade gasoline.\n",
    "\n",
    "Assume that the sample standard deviation of prices is $0.15.\n",
    "\n",
    "An economist is interested in determining whether the mean price for all Los Angeles gas stations is less than $2.82. Perform a hypothesis test at the 𝛼 = 0.05 level of significance."
   ]
  },
  {
   "cell_type": "code",
   "execution_count": null,
   "id": "f7694136",
   "metadata": {},
   "outputs": [],
   "source": [
    "#Import Libraries\n",
    "import scipy.stats, math\n",
    "\n",
    "#Input values\n",
    "mu = 2.82\n",
    "xbar = 2.77\n",
    "n = 50\n",
    "s = .15\n",
    "df = 49\n",
    "\n",
    "#Find the test stat\n",
    "t_stat = (xbar-mu)/(s/math.sqrt(n))\n",
    "print(\"The test statistic is\", t_stat)\n",
    "\n",
    "#Find Critical Value\n",
    "alpha = 0.05\n",
    "t_critical = scipy.stats.t.ppf(q=alpha,df=df)\n",
    "print(\"The critical value is\",t_critical)\n",
    "\n",
    "#Determine if the test stat is in critical region and form corresponding conclusion\n",
    "if t_stat <= t_critical:\n",
    "    print(\"The test statistic is in the critical region. Therefore, we will reject the null hypothesis.\")\n",
    "else:\n",
    "    print(\"The test statistic is not in the critical region. Therefore, we will not reject the null hypothesis.\")\n",
    "    "
   ]
  },
  {
   "cell_type": "markdown",
   "id": "51ea949f",
   "metadata": {},
   "source": [
    "**Example 2:** For a 4 unit class, students are expected to spend an average of 480 minutes studying each week outside of class (8 hours). The given data below represents randomly selected students during the third week of a semester. \n",
    "\n",
    "504, 267, 220, 322, 538, 542,428, 481, 413, 302, 602.\n",
    "\n",
    "Determine if the evidence suggests students may not, in fact, be studying that much. Use α = 0.01. Assume the data come from a population that is normally distributed.\n",
    "\n"
   ]
  },
  {
   "cell_type": "code",
   "execution_count": 14,
   "id": "f36116df",
   "metadata": {
    "scrolled": true
   },
   "outputs": [
    {
     "name": "stdout",
     "output_type": "stream",
     "text": [
      "The test statistic is -1.5767853409877235\n",
      "The critical value is -2.7637694574478893\n",
      "The p-value is  0.07296179001127244\n",
      "The test statistic is not in the critical region. Also, the p-value is greater than alpha.\n",
      "Therefore, we will not reject the null hypothesis.\n"
     ]
    }
   ],
   "source": [
    "#Import Libraries\n",
    "import scipy.stats, statistics, math\n",
    "\n",
    "#Input hypothesis value and create dataset\n",
    "mu = 480\n",
    "data = [504, 267, 220, 322, 538, 542,428, 481, 413, 302, 602]\n",
    "xbar = statistics.mean(data)\n",
    "n = len(data)\n",
    "s = statistics.stdev(data)\n",
    "df = len(data)-1\n",
    "\n",
    "#Find the test stat\n",
    "t_stat = (xbar-mu)/(s/math.sqrt(n))\n",
    "print(\"The test statistic is\", t_stat)\n",
    "\n",
    "#Find Critical Value\n",
    "alpha = 0.01\n",
    "t_critical = scipy.stats.t.ppf(q=alpha,df=df)\n",
    "print(\"The critical value is\",t_critical)\n",
    "\n",
    "#Find the p-value\n",
    "p_value = scipy.stats.t.cdf(t_stat, df)\n",
    "print(\"The p-value is \", p_value)\n",
    "\n",
    "#Determine if the test stat is in critical region, if p-value < alpha, and form corresponding conclusion\n",
    "if t_stat <= t_critical and p_value < alpha:\n",
    "    print(\"The test statistic is in the critical region. Also, the p-value is less than alpha.\" \"\\n\"\n",
    "          \"Therefore, we will reject the null hypothesis.\")\n",
    "else:\n",
    "    print(\"The test statistic is not in the critical region. Also, the p-value is greater than alpha.\" \"\\n\"\n",
    "          \"Therefore, we will not reject the null hypothesis.\")"
   ]
  },
  {
   "cell_type": "markdown",
   "id": "99f37215",
   "metadata": {},
   "source": [
    "# Hypotheis Testing on Proportions"
   ]
  },
  {
   "cell_type": "markdown",
   "id": "4b449502",
   "metadata": {},
   "source": [
    "**Example 1:** According to the Census Bureau, 8.8% of the U.S. population had no health insurance coverage in 2017. Suppose that in a recent random sample of 1200 Americans, 130 had no health insurance. Use a 0.02 significance level to test the claim that the current percentage of Americans who have no health insurance coverage is greater than 8.8%."
   ]
  },
  {
   "cell_type": "code",
   "execution_count": 5,
   "id": "086eabfd",
   "metadata": {},
   "outputs": [
    {
     "name": "stdout",
     "output_type": "stream",
     "text": [
      "The test statistic is 2.48633960589297\n",
      "The critical value is 2.0537489106318225\n",
      "The p-value is  0.006453236737561152\n",
      "The test statistic is in the critical region. Also, the p-value is less than alpha.\n",
      "Therefore, we will reject the null hypothesis.\n"
     ]
    }
   ],
   "source": [
    "#Import Libraries\n",
    "from scipy.stats import norm\n",
    "import math\n",
    "\n",
    "#Input hypothesis value and problem values\n",
    "p = .088\n",
    "x = 130\n",
    "n = 1200\n",
    "p_hat = x/n\n",
    "\n",
    "#Find the test stat\n",
    "z_stat = (p_hat-p)/math.sqrt(p*(1-p)/n)\n",
    "print(\"The test statistic is\", z_stat)\n",
    "\n",
    "#Find Critical Value\n",
    "alpha = 0.02\n",
    "z_critical = norm.ppf(1-alpha, 0, 1)\n",
    "print(\"The critical value is\",z_critical)\n",
    "\n",
    "#Find the p-value\n",
    "p_value = 1-norm.cdf(z_stat)\n",
    "print(\"The p-value is \", p_value)\n",
    "\n",
    "#Determine if the test stat is in critical region, if p-value < alpha, and form corresponding conclusion\n",
    "if z_stat >= z_critical and p_value < alpha:\n",
    "    print(\"The test statistic is in the critical region. Also, the p-value is less than alpha.\" \"\\n\"\n",
    "          \"Therefore, we will reject the null hypothesis.\")\n",
    "else:\n",
    "    print(\"The test statistic is not in the critical region. Also, the p-value is greater than alpha.\" \"\\n\"\n",
    "          \"Therefore, we will not reject the null hypothesis.\")"
   ]
  },
  {
   "cell_type": "markdown",
   "id": "7433863e",
   "metadata": {},
   "source": [
    "**Example 2:** According to NPR, in 2016 32.1% of adults aged 18-34 lived at home with their parents. A sociologist recently randomly surveyed 500 people aged 18-34 and found that 143 of them did. At 𝛼 = 0.05, do we think the proportion has changed?"
   ]
  },
  {
   "cell_type": "code",
   "execution_count": 4,
   "id": "fa2d0aa7",
   "metadata": {
    "scrolled": true
   },
   "outputs": [
    {
     "name": "stdout",
     "output_type": "stream",
     "text": [
      "The test statistic is -1.6763536453098515\n",
      "The critical values are -1.9599639845400545 and 1.959963984540054\n",
      "The p-value is  0.0936689429155094\n",
      "The test statistic is not in the critical region. Also, the p-value is greater than alpha.\n",
      "Therefore, we will not reject the null hypothesis.\n"
     ]
    }
   ],
   "source": [
    "#Import Libraries\n",
    "from scipy.stats import norm\n",
    "import math\n",
    "\n",
    "#Input hypothesis value and problem values\n",
    "p = .321\n",
    "x = 143\n",
    "n = 500\n",
    "p_hat = x/n\n",
    "\n",
    "#Find the test stat\n",
    "z_stat = (p_hat-p)/math.sqrt(p*(1-p)/n)\n",
    "print(\"The test statistic is\", z_stat)\n",
    "\n",
    "#Find Critical Values\n",
    "alpha = 0.05\n",
    "alpha_2 = alpha/2\n",
    "z_critical_left = norm.ppf(alpha_2, 0, 1)\n",
    "z_critical_right = norm.ppf(1-alpha_2,)\n",
    "print(\"The critical values are\",z_critical_left, \"and\", z_critical_right)\n",
    "\n",
    "#Find the p-value\n",
    "p_value = 2*(norm.cdf(z_stat))\n",
    "print(\"The p-value is \", p_value)\n",
    "\n",
    "#Determine if the test stat is in critical region, if p-value < alpha, and form corresponding conclusion\n",
    "if (z_stat >= z_critical_right or z_stat <= z_critical_left) and p_value < alpha:\n",
    "    print(\"The test statistic is in the critical region. Also, the p-value is less than alpha.\" \"\\n\"\n",
    "          \"Therefore, we will reject the null hypothesis.\")\n",
    "else:\n",
    "    print(\"The test statistic is not in the critical region. Also, the p-value is greater than alpha.\" \"\\n\"\n",
    "          \"Therefore, we will not reject the null hypothesis.\")"
   ]
  },
  {
   "cell_type": "markdown",
   "id": "e1f407c7",
   "metadata": {},
   "source": [
    "# Hypothesis Testing on Standard Deviations"
   ]
  },
  {
   "cell_type": "markdown",
   "id": "0c4e1316",
   "metadata": {},
   "source": [
    "**Example 1:** To check the reliability of a scale in a butcher shop, a test weight known to weigh 400 grams was weighed 16 times. For the scale to be considered reliable, the standard deviation of repeated measurements must be less than 1 gram. The standard deviation of the 16 measured weights was s = 0.8 gram. Assume that the measured weights are independent and follow a normal distribution. Can we conclude that the population standard deviation of the measurements is less than 1 gram? Use the 𝛼 = 0.05 level of significance."
   ]
  },
  {
   "cell_type": "code",
   "execution_count": 3,
   "id": "f3fe07de",
   "metadata": {},
   "outputs": [
    {
     "name": "stdout",
     "output_type": "stream",
     "text": [
      "The test statistic is 9.600000000000001\n",
      "The critical value is 7.2609439276700325\n",
      "The p-value is 0.15588141120096394\n",
      "The test statistic is not in the critical region. Also, the p-value is greater than alpha.\n",
      "Therefore, we will not reject the null hypothesis.\n"
     ]
    }
   ],
   "source": [
    "#Import Libraries\n",
    "import scipy.stats as stats\n",
    "import math\n",
    "\n",
    "#Identify hypothesis value and values from problem\n",
    "mu = 1\n",
    "s = .8\n",
    "n = 16\n",
    "df = n-1\n",
    "\n",
    "#Find test stat\n",
    "x2_stat = ((n-1)*s**2)/mu**2\n",
    "print(\"The test statistic is\", x2_stat)\n",
    "\n",
    "#Find critical value\n",
    "alpha = 0.05\n",
    "x2_critical = scipy.stats.chi2.ppf(alpha, df=df)\n",
    "print(\"The critical value is\", x2_critical)\n",
    "\n",
    "#Find p-value\n",
    "p_value = stats.chi2.cdf(x2_stat, df)\n",
    "print(\"The p-value is\", p_value)\n",
    "\n",
    "#Determine if the test stat is in critical region, if p-value < alpha, and form corresponding conclusion\n",
    "if x2_stat <= x2_critical and p_value < alpha:\n",
    "    print(\"The test statistic is in the critical region. Also, the p-value is less than alpha.\" \"\\n\"\n",
    "          \"Therefore, we will reject the null hypothesis.\")\n",
    "else:\n",
    "    print(\"The test statistic is not in the critical region. Also, the p-value is greater than alpha.\" \"\\n\"\n",
    "          \"Therefore, we will not reject the null hypothesis.\")\n"
   ]
  },
  {
   "cell_type": "markdown",
   "id": "beba1d70",
   "metadata": {},
   "source": [
    "**Example 2:** Listed below are speeds (mi/hrs) measured from northbound traffic on I-5 near Los Angeles. (Based on data from SigAlert). \n",
    "\n",
    "62, 61, 61, 57, 61, 54, 59, 58, 59, 69, 60, 67\n",
    "\n",
    "Use a 0.05 significance level to test the claim of the highway engineer that the standard deviation of speeds is less than to 5.0 mi/hrs."
   ]
  },
  {
   "cell_type": "code",
   "execution_count": 7,
   "id": "75464855",
   "metadata": {},
   "outputs": [
    {
     "name": "stdout",
     "output_type": "stream",
     "text": [
      "The test statistic is 7.3066666666666675\n",
      "The critical value is 4.574813079322224\n",
      "The p-value is 0.22626691104480912\n",
      "The test statistic is not in the critical region. Also, the p-value is greater than alpha.\n",
      "Therefore, we will not reject the null hypothesis.\n"
     ]
    }
   ],
   "source": [
    "#Import Libraries\n",
    "import scipy.stats as stats\n",
    "import math, statistics\n",
    "\n",
    "#Identify hypothesis value and dataset from problem\n",
    "mu = 5\n",
    "data = [62, 61, 61, 57, 61, 54, 59, 58, 59, 69, 60, 67]\n",
    "s = statistics.stdev(data)\n",
    "n = len(data)\n",
    "df = n-1\n",
    "\n",
    "#Find test stat\n",
    "x2_stat = ((n-1)*s**2)/mu**2\n",
    "print(\"The test statistic is\", x2_stat)\n",
    "\n",
    "#Find critical value\n",
    "alpha = 0.05\n",
    "x2_critical = scipy.stats.chi2.ppf(alpha, df=df)\n",
    "print(\"The critical value is\", x2_critical)\n",
    "\n",
    "#Find p-value\n",
    "p_value = stats.chi2.cdf(x2_stat, df)\n",
    "print(\"The p-value is\", p_value)\n",
    "\n",
    "#Determine if the test stat is in critical region, if p-value < alpha, and form corresponding conclusion\n",
    "if x2_stat <= x2_critical and p_value < alpha:\n",
    "    print(\"The test statistic is in the critical region. Also, the p-value is less than alpha.\" \"\\n\"\n",
    "          \"Therefore, we will reject the null hypothesis.\")\n",
    "else:\n",
    "    print(\"The test statistic is not in the critical region. Also, the p-value is greater than alpha.\" \"\\n\"\n",
    "          \"Therefore, we will not reject the null hypothesis.\")"
   ]
  },
  {
   "cell_type": "code",
   "execution_count": null,
   "id": "3161a8cf",
   "metadata": {},
   "outputs": [],
   "source": []
  }
 ],
 "metadata": {
  "kernelspec": {
   "display_name": "Python 3 (ipykernel)",
   "language": "python",
   "name": "python3"
  },
  "language_info": {
   "codemirror_mode": {
    "name": "ipython",
    "version": 3
   },
   "file_extension": ".py",
   "mimetype": "text/x-python",
   "name": "python",
   "nbconvert_exporter": "python",
   "pygments_lexer": "ipython3",
   "version": "3.10.11"
  }
 },
 "nbformat": 4,
 "nbformat_minor": 5
}
