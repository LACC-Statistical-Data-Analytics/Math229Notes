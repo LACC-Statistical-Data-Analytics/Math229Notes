{
 "cells": [
  {
   "cell_type": "markdown",
   "id": "10e5acb7",
   "metadata": {},
   "source": [
    "<font color=Blue>**Math 229: Statistics for Data Science**</font>\n",
    " \n",
    "<font color=Blue>**Professor: Sarvi**</font>\n",
    " \n",
    "<font color=Blue>**Los Angeles City College**</font>"
   ]
  },
  {
   "attachments": {
    "LACC.png": {
     "image/png": "[encoded data removed]"
    }
   },
   "cell_type": "markdown",
   "id": "e60c1c64",
   "metadata": {},
   "source": [
    "![LACC.png](attachment:LACC.png)"
   ]
  },
  {
   "cell_type": "markdown",
   "id": "0442d430",
   "metadata": {},
   "source": [
    "# Find Critical z Values"
   ]
  },
  {
   "cell_type": "code",
   "execution_count": null,
   "id": "e7431b8f",
   "metadata": {},
   "outputs": [],
   "source": [
    "#Import Library\n",
    "from scipy.stats import norm\n",
    "\n",
    "#Identify Confidence Level (decimal form)\n",
    "CL = 0.99\n",
    "\n",
    "#Find alpha and alpha/2\n",
    "alpha = 1-CL\n",
    "alpha_over_2 = alpha/2\n",
    "\n",
    "#Critical Values\n",
    "z1 = norm.ppf(alpha_over_2,0,1)\n",
    "z2 = norm.ppf(1-alpha_over_2, 0, 1)\n",
    "\n",
    "#Print Critical z Values\n",
    "print(\"Negative critical z value is\", z1)\n",
    "print(\"Positive critical z value is\", z2)"
   ]
  },
  {
   "cell_type": "markdown",
   "id": "2ecc4e84",
   "metadata": {},
   "source": [
    "# Find CI for Proportion"
   ]
  },
  {
   "cell_type": "markdown",
   "id": "ca4f9aeb",
   "metadata": {},
   "source": [
    "**Example 1:** A survey asked a sample of 500 college students if they considered themselves a morning person. 120 of the sampled students said they are morning people. Create a 95% confidence interval for the population proportion."
   ]
  },
  {
   "cell_type": "code",
   "execution_count": null,
   "id": "f8a36c1d",
   "metadata": {},
   "outputs": [],
   "source": [
    "#Import Library\n",
    "from scipy.stats import norm\n",
    "import math\n",
    "\n",
    "#Identify Confidence Level (decimal form), x, n, and phat\n",
    "CL = 0.95\n",
    "x = 120\n",
    "n = 500\n",
    "phat = x/n\n",
    "\n",
    "#Find alpha and alpha/2\n",
    "alpha = 1-CL\n",
    "alpha_over_2 = alpha/2\n",
    "\n",
    "#Critical Value, just use positive one\n",
    "z = norm.ppf(1-alpha_over_2, 0, 1)\n",
    "\n",
    "#Find Standard Error\n",
    "SE = math.sqrt((phat*(1-phat))/n)\n",
    "\n",
    "#Find Margin of Error\n",
    "E = z * SE\n",
    "\n",
    "#Confidence Interval\n",
    "lower_bound = phat - E\n",
    "upper_bound = phat + E\n",
    "\n",
    "print(\"We are\",CL*100,\"% confident that the true population proportion is between\", lower_bound, \"and\", upper_bound)"
   ]
  },
  {
   "cell_type": "markdown",
   "id": "daa61942",
   "metadata": {},
   "source": [
    "**Example 2:** A random sample of 1,003 adults were asked “Are you satisfied with your internet provider? 521 of the adults surveyed said that they were. Find a 90% confidence interval for the true proportion of adults who were satisfied with their internet provider."
   ]
  },
  {
   "cell_type": "code",
   "execution_count": null,
   "id": "ece21c77",
   "metadata": {},
   "outputs": [],
   "source": [
    "#Import Library\n",
    "from scipy.stats import norm\n",
    "import math\n",
    "\n",
    "#Identify Confidence Level (decimal form), x, n, and phat\n",
    "CL = 0.90\n",
    "x = 521\n",
    "n = 1003\n",
    "phat = x/n\n",
    "\n",
    "#Find alpha and alpha/2\n",
    "alpha = 1-CL\n",
    "alpha_over_2 = alpha/2\n",
    "\n",
    "#Critical Value, just use positive one\n",
    "z = norm.ppf(1-alpha_over_2, 0, 1)\n",
    "\n",
    "#Find Standard Error\n",
    "SE = math.sqrt((phat*(1-phat))/n)\n",
    "\n",
    "#Find Margin of Error\n",
    "E = z * SE\n",
    "\n",
    "#Confidence Interval\n",
    "lower_bound = phat - E\n",
    "upper_bound = phat + E\n",
    "\n",
    "print(\"We are\",CL*100,\"% confident that the true population proportion is between\", lower_bound, \"and\", upper_bound)"
   ]
  },
  {
   "cell_type": "markdown",
   "id": "b0053dfd",
   "metadata": {},
   "source": [
    "# Finding Critical t Values"
   ]
  },
  {
   "cell_type": "code",
   "execution_count": null,
   "id": "6e061ceb",
   "metadata": {},
   "outputs": [],
   "source": [
    "# Import Library \n",
    "import scipy.stats \n",
    "\n",
    "#Identify Confidence Level (decimal form)\n",
    "CL = \n",
    "degrees_of_freedom = \n",
    "\n",
    "#Find alpha and alpha/2\n",
    "alpha = 1-CL\n",
    "alpha_over_2 = alpha/2\n",
    "  \n",
    "# To find the t critical value given left area\n",
    "t1 = scipy.stats.t.ppf(q=alpha_over_2,df=degrees_of_freedom)\n",
    "t2 = scipy.stats.t.ppf(q=1-alpha_over_2,df=degrees_of_freedom)\n",
    "\n",
    "#Print Critical t Values\n",
    "print(\"Negative critical t value is\", t1)\n",
    "print(\"Positive critical t value is\", t2)"
   ]
  },
  {
   "cell_type": "markdown",
   "id": "ef22dbd9",
   "metadata": {},
   "source": [
    "# Finding CI for Mean"
   ]
  },
  {
   "cell_type": "markdown",
   "id": "155a2bb5",
   "metadata": {},
   "source": [
    "**Example 1:** A company has developed a new type of lightbulb and wants to estimate its mean lifetime. A simple random sample of 100 bulbs had a sample mean lifetime of 750.2 hours with a sample standard deviation of 30 hours. Construct a 95% confidence interval for the population mean lifetime of all bulbs manufactured by this new process. "
   ]
  },
  {
   "cell_type": "code",
   "execution_count": null,
   "id": "7cda4761",
   "metadata": {
    "scrolled": true
   },
   "outputs": [],
   "source": [
    "# Import Library \n",
    "import scipy.stats, math\n",
    "\n",
    "#Identify Confidence Level (decimal form), df, xbar, and s\n",
    "CL = .95\n",
    "degrees_of_freedom = 99\n",
    "xbar = 750.2\n",
    "s = 30\n",
    "\n",
    "#Find alpha and alpha/2\n",
    "alpha = 1-CL\n",
    "alpha_over_2 = alpha/2\n",
    "  \n",
    "# Find the t critical value given left area, just use positive one\n",
    "t = scipy.stats.t.ppf(q=1-alpha_over_2,df=degrees_of_freedom)\n",
    "\n",
    "#Find Standard Error\n",
    "SE = s/math.sqrt(n)\n",
    "\n",
    "#Find Margin of Error\n",
    "E = t * SE\n",
    "\n",
    "#Confidence Interval\n",
    "lower_bound = xbar - E\n",
    "upper_bound = xbar + E\n",
    "\n",
    "print(\"We are\",CL*100,\"% confident that the true population mean is between\", lower_bound, \"and\", upper_bound)"
   ]
  },
  {
   "cell_type": "markdown",
   "id": "8a617fe1",
   "metadata": {},
   "source": [
    "**Example 2:** A food chemist analyzed the calorie content for a popular type of chocolate cookie. The following are the number of calories in a sample of eight cookies: 113, 114, 111, 116, 115, 120, 118, 116.Assuming the data comes from a normal distribution, find a 98% confidence interval for the mean number of calories in this type of cookie."
   ]
  },
  {
   "cell_type": "code",
   "execution_count": null,
   "id": "51438b5b",
   "metadata": {
    "scrolled": true
   },
   "outputs": [],
   "source": [
    "# Import Library \n",
    "import scipy.stats, math, statistics\n",
    "\n",
    "#Identify dataset\n",
    "data = [113, 114, 111, 116, 115, 120, 118, 116]\n",
    "\n",
    "#Identify Confidence Level (decimal form), df, xbar, and s\n",
    "CL = .98\n",
    "degrees_of_freedom = len(data)-1\n",
    "n= len(data)\n",
    "xbar = statistics.mean(data)\n",
    "s = statistics.stdev(data)\n",
    "\n",
    "#Find alpha and alpha/2\n",
    "alpha = 1-CL\n",
    "alpha_over_2 = alpha/2\n",
    "  \n",
    "# Find the t critical value given left area, just use positive one\n",
    "t = scipy.stats.t.ppf(q=1-alpha_over_2,df=degrees_of_freedom)\n",
    "\n",
    "#Find Standard Error\n",
    "SE = s/math.sqrt(n)\n",
    "\n",
    "#Find Margin of Error\n",
    "E = t * SE\n",
    "\n",
    "#Confidence Interval\n",
    "lower_bound = xbar - E\n",
    "upper_bound = xbar + E\n",
    "\n",
    "print(\"We are\",CL*100,\"% confident that the true population mean is between\", lower_bound, \"and\", upper_bound)"
   ]
  },
  {
   "cell_type": "markdown",
   "id": "0b43fc29",
   "metadata": {},
   "source": [
    "# Finding Critical Chi-Square Values"
   ]
  },
  {
   "cell_type": "code",
   "execution_count": null,
   "id": "d4c33bd7",
   "metadata": {},
   "outputs": [],
   "source": [
    "#Import Library\n",
    "import scipy.stats\n",
    "\n",
    "#Identify Confidence Level and DF\n",
    "CL = .9\n",
    "degrees_of_freedom = 19\n",
    "\n",
    "#Find alpha and alpha/2\n",
    "alpha = 1-CL\n",
    "alpha_over_2 = alpha/2\n",
    "\n",
    "#Find Chi-Square Critical Values\n",
    "x2left = scipy.stats.chi2.ppf(alpha_over_2, df=degrees_of_freedom) #Left one\n",
    "x2right = scipy.stats.chi2.ppf(1-alpha_over_2, df=degrees_of_freedom) #Right one\n",
    "\n",
    "print(\"The smaller critical value is\", x2left)\n",
    "print(\"The larger critical value is\", x2right)"
   ]
  },
  {
   "cell_type": "markdown",
   "id": "8fc3d91d",
   "metadata": {},
   "source": [
    "**Example 1:** The compressive strengths of seven concrete blocks, in pounds per square inch, are measured, with the following results: 1989.9,    1993.8,    2074.5,    2070.5,    2070.9,    2033.6,    1939.6. Assume these values are a simple random sample from a normal population. Construct a 95% confidence interval for the population standard deviation 𝜎."
   ]
  },
  {
   "cell_type": "code",
   "execution_count": null,
   "id": "9630ecdf",
   "metadata": {},
   "outputs": [],
   "source": [
    "#Import Library\n",
    "import scipy.stats, math, statistics\n",
    "\n",
    "#Create dataset\n",
    "data = [1989.9, 1993.8, 2074.5, 2070.5, 2070.9, 2033.6, 1939.6]\n",
    "\n",
    "#Identify Confidence Level, DF, s, and n\n",
    "CL = .95\n",
    "degrees_of_freedom = len(data)-1\n",
    "s = statistics.stdev(data)\n",
    "n = len(data)\n",
    "\n",
    "#Find alpha and alpha/2\n",
    "alpha = 1-CL\n",
    "alpha_over_2 = alpha/2\n",
    "\n",
    "#Find Chi-Square Critical Values\n",
    "x2left = scipy.stats.chi2.ppf(alpha_over_2, df=degrees_of_freedom) #Left one\n",
    "x2right = scipy.stats.chi2.ppf(1-alpha_over_2, df=degrees_of_freedom) #Right one\n",
    "\n",
    "#Confidence Interval\n",
    "lower_bound = math.sqrt((n-1)*(s**2)/x2right)\n",
    "upper_bound = math.sqrt((n-1)*(s**2)/x2left)\n",
    "\n",
    "print(\"We are\",CL*100,\"% confident that the true population standard deviation is between\", lower_bound, \"and\", upper_bound)"
   ]
  },
  {
   "cell_type": "code",
   "execution_count": null,
   "id": "9ce86f3d",
   "metadata": {},
   "outputs": [],
   "source": []
  }
 ],
 "metadata": {
  "kernelspec": {
   "display_name": "Python 3 (ipykernel)",
   "language": "python",
   "name": "python3"
  },
  "language_info": {
   "codemirror_mode": {
    "name": "ipython",
    "version": 3
   },
   "file_extension": ".py",
   "mimetype": "text/x-python",
   "name": "python",
   "nbconvert_exporter": "python",
   "pygments_lexer": "ipython3",
   "version": "3.10.11"
  }
 },
 "nbformat": 4,
 "nbformat_minor": 5
}
