{
 "cells": [
  {
   "attachments": {
    "LACC.png": {
     "image/png": "[encoded data removed]"
    }
   },
   "cell_type": "markdown",
   "id": "7684faaa",
   "metadata": {},
   "source": [
    "![LACC.png](attachment:LACC.png)"
   ]
  },
  {
   "cell_type": "markdown",
   "id": "3d8ca4b8",
   "metadata": {},
   "source": [
    "<font color=Blue>**Math 229: Statistics for Data Science**</font>\n",
    " \n",
    " <font color=Blue>**Professor: Sarvi**</font>\n",
    " \n",
    "  <font color=Blue>**Los Angeles City College**</font>"
   ]
  },
  {
   "cell_type": "markdown",
   "id": "4b26acb9",
   "metadata": {},
   "source": [
    "**Example 2:**  An engineer wanted to determine how the weight of a car affects gas mileage.  The following data represent the weight of various cars and their gas mileage."
   ]
  },
  {
   "cell_type": "code",
   "execution_count": 2,
   "id": "b612f596",
   "metadata": {},
   "outputs": [
    {
     "name": "stdout",
     "output_type": "stream",
     "text": [
      "              Car  Weight  MPG\n",
      "0     Honda Civic    3475   20\n",
      "1       Honda CRV    3985   18\n",
      "2   Hyndai Sonata    3310   19\n",
      "3  Toyota Corolla    2655   26\n",
      "4     Mazda Miata    2580   27\n"
     ]
    }
   ],
   "source": [
    "# Importing library \n",
    "import pandas as pd\n",
    "import numpy as np\n",
    "\n",
    "# Define the data as a dictionary\n",
    "data = {\n",
    "    \"Car\": [\"Honda Civic\", \"Honda CRV\", \"Hyndai Sonata\", \"Toyota Corolla\", \"Mazda Miata\"],\n",
    "    \"Weight\": [3475,3985,3310,2655,2580],\n",
    "    \"MPG\": [20, 18, 19, 26, 27]\n",
    "}\n",
    "\n",
    "# Create a DataFrame from the data dictionary\n",
    "df = pd.DataFrame(data)\n",
    "\n",
    "# Display the DataFrame\n",
    "print(df)"
   ]
  },
  {
   "cell_type": "markdown",
   "id": "e13875ef",
   "metadata": {},
   "source": [
    "(b) Use Python to graph the scatter diagram of the data."
   ]
  },
  {
   "cell_type": "markdown",
   "id": "bf56e212",
   "metadata": {},
   "source": [
    "# Scatter Diagram"
   ]
  },
  {
   "cell_type": "code",
   "execution_count": 7,
   "id": "b26e7ff3",
   "metadata": {},
   "outputs": [
    {
     "data": {
      "image/png": "[encoded data removed]",
      "text/plain": [
       "<Figure size 640x480 with 1 Axes>"
      ]
     },
     "metadata": {},
     "output_type": "display_data"
    }
   ],
   "source": [
    "# Importing library \n",
    "import pandas as pd\n",
    "import numpy as np\n",
    "import matplotlib.pyplot as plt\n",
    "\n",
    "# Define the weight and mpg as arrays\n",
    "weight = np.array([3475,3985,3310,2655,2580])\n",
    "mpg = np.array([20, 18, 19, 26, 27])\n",
    "\n",
    "# Plot the scatter plot with blue color\n",
    "plt.scatter(weight, mpg, color='blue')\n",
    "plt.xlabel('Weight')\n",
    "plt.ylabel('MPG')\n",
    "plt.title('Scatter Plot of Weight and MPG: {:.2f}')\n",
    "\n",
    "# Show the plot\n",
    "plt.show()"
   ]
  },
  {
   "cell_type": "markdown",
   "id": "5800b6fd",
   "metadata": {},
   "source": [
    "# Correlation Coefficient"
   ]
  },
  {
   "cell_type": "code",
   "execution_count": 9,
   "id": "75de55e6",
   "metadata": {},
   "outputs": [
    {
     "name": "stdout",
     "output_type": "stream",
     "text": [
      "The linear correlation coefficient is: -0.94\n"
     ]
    }
   ],
   "source": [
    "import numpy as np\n",
    "\n",
    "# Define the weight and mpg as arrays\n",
    "weight = np.array([3475,3985,3310,2655,2580])\n",
    "mpg = np.array([20, 18, 19, 26, 27])\n",
    "\n",
    "# Calculate the correlation coefficient\n",
    "r = np.corrcoef(weight, mpg)[0, 1]\n",
    "rounded_r = round(r, 2)\n",
    "\n",
    "# Print the correlation coefficient\n",
    "print(\"The linear correlation coefficient is:\", rounded_r)"
   ]
  },
  {
   "cell_type": "markdown",
   "id": "c95c02e8",
   "metadata": {},
   "source": [
    "**Example 1:**  The following data represent the number of absences, x, and the final grade, y, for a sample of college students in a Statistics class.\n",
    "\n",
    "|# of Absences, x | 0    | 1    | 2    | 3    | 4    | 5    | 6    | 7    | 8    | 9    |\n",
    "|-----------------|------|------|------|------|------|------|------|------|------|------|\n",
    "|Final Grades, y  | 89.2 | 86.4 | 83.5 | 81.1 | 78.2 | 73.9 | 64.3 | 71.8 | 65.5 | 66.2 |\n"
   ]
  },
  {
   "cell_type": "markdown",
   "id": "161cd380",
   "metadata": {},
   "source": [
    "(a) Find the least-squares regression line."
   ]
  },
  {
   "cell_type": "code",
   "execution_count": 13,
   "id": "80b917f1",
   "metadata": {},
   "outputs": [
    {
     "name": "stdout",
     "output_type": "stream",
     "text": [
      "Slope: -2.83\n",
      "Intercept: 88.73\n"
     ]
    }
   ],
   "source": [
    "# Importing library \n",
    "import numpy as np\n",
    "from scipy.stats import linregress\n",
    "\n",
    "# Define the data\n",
    "x = np.array([0, 1, 2, 3, 4, 5, 6, 7, 8, 9])\n",
    "y = np.array([89.2, 86.4, 83.5, 81.1, 78.2, 73.9, 64.3, 71.8, 65.5, 66.2])\n",
    "\n",
    "# Calculate the slope and intercept for regression line\n",
    "slope, intercept,r_value, p_value, std_err = linregress(x, y)\n",
    "slope_rounded = round(slope, 2)\n",
    "intercept_rounded = round(intercept, 2)\n",
    "\n",
    "# Print the slope and intercept\n",
    "print(\"Slope:\", slope_rounded)\n",
    "print(\"Intercept:\", intercept_rounded)"
   ]
  },
  {
   "cell_type": "markdown",
   "id": "2155d639",
   "metadata": {},
   "source": [
    "(c) Compute the residual for the student who had 5 absences. Interpret the residual."
   ]
  },
  {
   "cell_type": "markdown",
   "id": "5b2e4061",
   "metadata": {},
   "source": [
    "# Residual"
   ]
  },
  {
   "cell_type": "code",
   "execution_count": 19,
   "id": "582e2a67",
   "metadata": {},
   "outputs": [
    {
     "name": "stdout",
     "output_type": "stream",
     "text": [
      "Residual for a student with 5 absences is  -0.696\n"
     ]
    }
   ],
   "source": [
    "# Importing library\n",
    "import numpy as np\n",
    "from scipy.stats import linregress\n",
    "\n",
    "# Provided data\n",
    "x = [0, 1, 2, 3, 4, 5, 6, 7, 8, 9]\n",
    "y = [89.2, 86.4, 83.5, 81.1, 78.2, 73.9, 64.3, 71.8, 65.5, 66.2]\n",
    "\n",
    "# Calculate the slope and intercept\n",
    "slope, intercept, r_value, p_value, std_err = linregress(x, y)\n",
    "\n",
    "# Number of absences to calculate\n",
    "num_absences = 5\n",
    "\n",
    "# Predicted grade using linear regression equation\n",
    "predicted_grade = (slope * num_absences) + intercept\n",
    "\n",
    "# Actual grade of the student with 5 absences\n",
    "actual_grade = y[x.index(num_absences)]\n",
    "\n",
    "# Calculate the residual\n",
    "residual = round(actual_grade - predicted_grade, 3)\n",
    "\n",
    "# Print the residual\n",
    "print(\"Residual for a student with 5 absences is \", residual)"
   ]
  }
 ],
 "metadata": {
  "kernelspec": {
   "display_name": "Python 3 (ipykernel)",
   "language": "python",
   "name": "python3"
  },
  "language_info": {
   "codemirror_mode": {
    "name": "ipython",
    "version": 3
   },
   "file_extension": ".py",
   "mimetype": "text/x-python",
   "name": "python",
   "nbconvert_exporter": "python",
   "pygments_lexer": "ipython3",
   "version": "3.10.11"
  }
 },
 "nbformat": 4,
 "nbformat_minor": 5
}
